{
 "cells": [
  {
   "cell_type": "code",
   "execution_count": 0,
   "metadata": {
    "application/vnd.databricks.v1+cell": {
     "cellMetadata": {
      "byteLimit": 2048000,
      "rowLimit": 10000
     },
     "inputWidgets": {},
     "nuid": "3ef2d024-f7e4-4996-8bfa-5ab164f0f144",
     "showTitle": false,
     "tableResultSettingsMap": {},
     "title": ""
    }
   },
   "outputs": [],
   "source": [
    "# Defining the necessary paths\n",
    "\n",
    "source_path = '/Volumes/event_catalog/orders_schema/event_external_source/file_arrival_location/'\n",
    "archive_path = '/Volumes/event_catalog/orders_schema/event_external_source/archive/'\n",
    "stage_table = 'event_catalog.orders_schema.stage_orders_table'\n",
    "\n"
   ]
  },
  {
   "cell_type": "code",
   "execution_count": 0,
   "metadata": {
    "application/vnd.databricks.v1+cell": {
     "cellMetadata": {
      "byteLimit": 2048000,
      "rowLimit": 10000
     },
     "inputWidgets": {},
     "nuid": "d2e21dc4-7b24-4fda-be4a-897c6a6ba84e",
     "showTitle": false,
     "tableResultSettingsMap": {},
     "title": ""
    }
   },
   "outputs": [],
   "source": [
    "# Read CSV file from the source path where the data is stored in the Volumes\n",
    "df = spark.read.format('csv').option('inferSchema',True).option('header',True).load(source_path)\n",
    "\n"
   ]
  },
  {
   "cell_type": "code",
   "execution_count": 0,
   "metadata": {
    "application/vnd.databricks.v1+cell": {
     "cellMetadata": {
      "byteLimit": 2048000,
      "rowLimit": 10000
     },
     "inputWidgets": {},
     "nuid": "c4bfbefc-9e54-46d5-9c99-4b30ad32d302",
     "showTitle": false,
     "tableResultSettingsMap": {},
     "title": ""
    }
   },
   "outputs": [],
   "source": [
    "# writing it to the table in the delta format (overwriting it every time)\n",
    "df.write.mode('overwrite').format('delta').saveAsTable(stage_table)"
   ]
  },
  {
   "cell_type": "code",
   "execution_count": 0,
   "metadata": {
    "application/vnd.databricks.v1+cell": {
     "cellMetadata": {
      "byteLimit": 2048000,
      "rowLimit": 10000
     },
     "inputWidgets": {},
     "nuid": "74d9ce03-b3d2-4221-9297-b993c5c38436",
     "showTitle": false,
     "tableResultSettingsMap": {},
     "title": ""
    }
   },
   "outputs": [],
   "source": [
    "# Now, to avoid the continuous Job running, moving the current day file to the archive folder \n",
    "# List all files in the source directory\n",
    "files = dbutils.fs.ls(source_path)\n",
    "\n",
    "# for each will go through every file in the source directory\n",
    "for file in files:\n",
    "    src_path = file.path\n",
    "\n",
    "    # Defining the target path\n",
    "    target_path = archive_path + src_path.split(\"/\")[-1]\n",
    "    \n",
    "    # Move the file to the archive path/target path\n",
    "    dbutils.fs.mv(src_path, target_path)"
   ]
  }
 ],
 "metadata": {
  "application/vnd.databricks.v1+notebook": {
   "computePreferences": null,
   "dashboards": [],
   "environmentMetadata": {
    "base_environment": "",
    "environment_version": "2"
   },
   "inputWidgetPreferences": null,
   "language": "python",
   "notebookMetadata": {
    "pythonIndentUnit": 4
   },
   "notebookName": "Source_to_Stage",
   "widgets": {}
  },
  "language_info": {
   "name": "python"
  }
 },
 "nbformat": 4,
 "nbformat_minor": 0
}
